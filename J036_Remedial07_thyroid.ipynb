{
  "nbformat": 4,
  "nbformat_minor": 0,
  "metadata": {
    "colab": {
      "name": "J036_Remedial07_thyroid.ipynb",
      "provenance": [],
      "collapsed_sections": []
    },
    "kernelspec": {
      "name": "python3",
      "display_name": "Python 3"
    }
  },
  "cells": [
    {
      "cell_type": "code",
      "metadata": {
        "id": "37qQSshhfeXx",
        "outputId": "06a65660-4628-435c-dd78-69b1989c8558",
        "colab": {
          "base_uri": "https://localhost:8080/"
        }
      },
      "source": [
        "!pip install -i https://test.pypi.org/simple/ all-in-one-ml==0.0.3"
      ],
      "execution_count": null,
      "outputs": [
        {
          "output_type": "stream",
          "text": [
            "Looking in indexes: https://test.pypi.org/simple/\n",
            "Collecting all-in-one-ml==0.0.3\n",
            "  Downloading https://test-files.pythonhosted.org/packages/28/79/5a421fa17e3e9a8b1cfa6ea4d65ba5d97865efbdf0b4dc99d7e52ef3849f/all_in_one_ml-0.0.3.tar.gz\n",
            "Requirement already satisfied: pandas in /usr/local/lib/python3.6/dist-packages (from all-in-one-ml==0.0.3) (1.1.3)\n",
            "Requirement already satisfied: numpy in /usr/local/lib/python3.6/dist-packages (from all-in-one-ml==0.0.3) (1.18.5)\n",
            "Requirement already satisfied: sklearn in /usr/local/lib/python3.6/dist-packages (from all-in-one-ml==0.0.3) (0.0)\n",
            "Requirement already satisfied: keras in /usr/local/lib/python3.6/dist-packages (from all-in-one-ml==0.0.3) (2.4.3)\n",
            "Requirement already satisfied: seaborn in /usr/local/lib/python3.6/dist-packages (from all-in-one-ml==0.0.3) (0.11.0)\n",
            "Requirement already satisfied: matplotlib in /usr/local/lib/python3.6/dist-packages (from all-in-one-ml==0.0.3) (3.2.2)\n",
            "Requirement already satisfied: pytz>=2017.2 in /usr/local/lib/python3.6/dist-packages (from pandas->all-in-one-ml==0.0.3) (2018.9)\n",
            "Requirement already satisfied: python-dateutil>=2.7.3 in /usr/local/lib/python3.6/dist-packages (from pandas->all-in-one-ml==0.0.3) (2.8.1)\n",
            "Requirement already satisfied: scikit-learn in /usr/local/lib/python3.6/dist-packages (from sklearn->all-in-one-ml==0.0.3) (0.22.2.post1)\n",
            "Requirement already satisfied: scipy>=0.14 in /usr/local/lib/python3.6/dist-packages (from keras->all-in-one-ml==0.0.3) (1.4.1)\n",
            "Requirement already satisfied: h5py in /usr/local/lib/python3.6/dist-packages (from keras->all-in-one-ml==0.0.3) (2.10.0)\n",
            "Requirement already satisfied: pyyaml in /usr/local/lib/python3.6/dist-packages (from keras->all-in-one-ml==0.0.3) (3.13)\n",
            "Requirement already satisfied: cycler>=0.10 in /usr/local/lib/python3.6/dist-packages (from matplotlib->all-in-one-ml==0.0.3) (0.10.0)\n",
            "Requirement already satisfied: pyparsing!=2.0.4,!=2.1.2,!=2.1.6,>=2.0.1 in /usr/local/lib/python3.6/dist-packages (from matplotlib->all-in-one-ml==0.0.3) (2.4.7)\n",
            "Requirement already satisfied: kiwisolver>=1.0.1 in /usr/local/lib/python3.6/dist-packages (from matplotlib->all-in-one-ml==0.0.3) (1.2.0)\n",
            "Requirement already satisfied: six>=1.5 in /usr/local/lib/python3.6/dist-packages (from python-dateutil>=2.7.3->pandas->all-in-one-ml==0.0.3) (1.15.0)\n",
            "Requirement already satisfied: joblib>=0.11 in /usr/local/lib/python3.6/dist-packages (from scikit-learn->sklearn->all-in-one-ml==0.0.3) (0.17.0)\n",
            "Building wheels for collected packages: all-in-one-ml\n",
            "  Building wheel for all-in-one-ml (setup.py) ... \u001b[?25l\u001b[?25hdone\n",
            "  Created wheel for all-in-one-ml: filename=all_in_one_ml-0.0.3-cp36-none-any.whl size=3868 sha256=9b67fde7474266ac31d17ce65d3a8b8b514ab1caaab5f911f454ed30b37fe633\n",
            "  Stored in directory: /root/.cache/pip/wheels/26/4f/f4/d595e3f4e73e8a49c62b9e2e99856618444f8d4c938d9c1b28\n",
            "Successfully built all-in-one-ml\n",
            "Installing collected packages: all-in-one-ml\n",
            "Successfully installed all-in-one-ml-0.0.3\n"
          ],
          "name": "stdout"
        }
      ]
    },
    {
      "cell_type": "code",
      "metadata": {
        "id": "ml8MbuC5gx18"
      },
      "source": [
        "from all_in_one_ml import beginner\n",
        "from sklearn import datasets\n",
        "import pandas as pd"
      ],
      "execution_count": null,
      "outputs": []
    },
    {
      "cell_type": "code",
      "metadata": {
        "id": "umWGVnt1oMd7"
      },
      "source": [
        "data = datasets.fetch_openml('thyroid-new')"
      ],
      "execution_count": null,
      "outputs": []
    },
    {
      "cell_type": "code",
      "metadata": {
        "id": "AmgKpVoor65x"
      },
      "source": [
        "df = pd.DataFrame(data.data,columns = data.feature_names)\n",
        "df['class'] = data.target"
      ],
      "execution_count": null,
      "outputs": []
    },
    {
      "cell_type": "code",
      "metadata": {
        "id": "OClnvuW3tSf7",
        "outputId": "ab2e80ff-42cb-4086-aef6-651e6b4dbe6d",
        "colab": {
          "base_uri": "https://localhost:8080/",
          "height": 195
        }
      },
      "source": [
        "df.head()"
      ],
      "execution_count": null,
      "outputs": [
        {
          "output_type": "execute_result",
          "data": {
            "text/html": [
              "<div>\n",
              "<style scoped>\n",
              "    .dataframe tbody tr th:only-of-type {\n",
              "        vertical-align: middle;\n",
              "    }\n",
              "\n",
              "    .dataframe tbody tr th {\n",
              "        vertical-align: top;\n",
              "    }\n",
              "\n",
              "    .dataframe thead th {\n",
              "        text-align: right;\n",
              "    }\n",
              "</style>\n",
              "<table border=\"1\" class=\"dataframe\">\n",
              "  <thead>\n",
              "    <tr style=\"text-align: right;\">\n",
              "      <th></th>\n",
              "      <th>2</th>\n",
              "      <th>3</th>\n",
              "      <th>4</th>\n",
              "      <th>5</th>\n",
              "      <th>6</th>\n",
              "      <th>class</th>\n",
              "    </tr>\n",
              "  </thead>\n",
              "  <tbody>\n",
              "    <tr>\n",
              "      <th>0</th>\n",
              "      <td>107.0</td>\n",
              "      <td>10.1</td>\n",
              "      <td>2.2</td>\n",
              "      <td>0.9</td>\n",
              "      <td>2.7</td>\n",
              "      <td>1</td>\n",
              "    </tr>\n",
              "    <tr>\n",
              "      <th>1</th>\n",
              "      <td>113.0</td>\n",
              "      <td>9.9</td>\n",
              "      <td>3.1</td>\n",
              "      <td>2.0</td>\n",
              "      <td>5.9</td>\n",
              "      <td>1</td>\n",
              "    </tr>\n",
              "    <tr>\n",
              "      <th>2</th>\n",
              "      <td>127.0</td>\n",
              "      <td>12.9</td>\n",
              "      <td>2.4</td>\n",
              "      <td>1.4</td>\n",
              "      <td>0.6</td>\n",
              "      <td>1</td>\n",
              "    </tr>\n",
              "    <tr>\n",
              "      <th>3</th>\n",
              "      <td>109.0</td>\n",
              "      <td>5.3</td>\n",
              "      <td>1.6</td>\n",
              "      <td>1.4</td>\n",
              "      <td>1.5</td>\n",
              "      <td>1</td>\n",
              "    </tr>\n",
              "    <tr>\n",
              "      <th>4</th>\n",
              "      <td>105.0</td>\n",
              "      <td>7.3</td>\n",
              "      <td>1.5</td>\n",
              "      <td>1.5</td>\n",
              "      <td>-0.1</td>\n",
              "      <td>1</td>\n",
              "    </tr>\n",
              "  </tbody>\n",
              "</table>\n",
              "</div>"
            ],
            "text/plain": [
              "       2     3    4    5    6 class\n",
              "0  107.0  10.1  2.2  0.9  2.7     1\n",
              "1  113.0   9.9  3.1  2.0  5.9     1\n",
              "2  127.0  12.9  2.4  1.4  0.6     1\n",
              "3  109.0   5.3  1.6  1.4  1.5     1\n",
              "4  105.0   7.3  1.5  1.5 -0.1     1"
            ]
          },
          "metadata": {
            "tags": []
          },
          "execution_count": 5
        }
      ]
    },
    {
      "cell_type": "code",
      "metadata": {
        "id": "4sCHISIbtkqV"
      },
      "source": [
        "x = df.drop(columns=['class'])\n",
        "y = df['class']"
      ],
      "execution_count": null,
      "outputs": []
    },
    {
      "cell_type": "code",
      "metadata": {
        "id": "prY8p-M_kSp2",
        "outputId": "295617f7-1501-4a5f-c6b7-5b6b1d2697a4",
        "colab": {
          "base_uri": "https://localhost:8080/"
        }
      },
      "source": [
        "y_hot = beginner.one_hot(x,y,onlyoutcome=True)\n",
        "print(x,y_hot)"
      ],
      "execution_count": null,
      "outputs": [
        {
          "output_type": "stream",
          "text": [
            "         2     3    4    5     6\n",
            "0    107.0  10.1  2.2  0.9   2.7\n",
            "1    113.0   9.9  3.1  2.0   5.9\n",
            "2    127.0  12.9  2.4  1.4   0.6\n",
            "3    109.0   5.3  1.6  1.4   1.5\n",
            "4    105.0   7.3  1.5  1.5  -0.1\n",
            "..     ...   ...  ...  ...   ...\n",
            "210  118.0   6.5  1.3  1.7  11.5\n",
            "211  139.0   4.2  0.7  4.3   6.3\n",
            "212  103.0   5.1  1.4  1.2   5.0\n",
            "213   97.0   4.7  1.1  2.1  12.6\n",
            "214  102.0   5.3  1.4  1.3   6.7\n",
            "\n",
            "[215 rows x 5 columns]      1  2  3\n",
            "0    1  0  0\n",
            "1    1  0  0\n",
            "2    1  0  0\n",
            "3    1  0  0\n",
            "4    1  0  0\n",
            "..  .. .. ..\n",
            "210  0  0  1\n",
            "211  0  0  1\n",
            "212  0  0  1\n",
            "213  0  0  1\n",
            "214  0  0  1\n",
            "\n",
            "[215 rows x 3 columns]\n"
          ],
          "name": "stdout"
        }
      ]
    },
    {
      "cell_type": "code",
      "metadata": {
        "id": "Bi7EqujclEPp",
        "outputId": "e690fa5c-183d-467e-aa9e-c82cfb085764",
        "colab": {
          "base_uri": "https://localhost:8080/"
        }
      },
      "source": [
        "x_train,x_test,y_train,y_test = beginner.split_dataset(x,y_hot,0.2,8)"
      ],
      "execution_count": null,
      "outputs": [
        {
          "output_type": "stream",
          "text": [
            "(172, 5) (172, 3) (43, 5) (43, 3)\n"
          ],
          "name": "stdout"
        }
      ]
    },
    {
      "cell_type": "code",
      "metadata": {
        "id": "u2sDazVOlP0o",
        "outputId": "3af85ead-a7d4-41ec-a766-c1a2d8b2194c",
        "colab": {
          "base_uri": "https://localhost:8080/",
          "height": 195
        }
      },
      "source": [
        "x_train.head()"
      ],
      "execution_count": null,
      "outputs": [
        {
          "output_type": "execute_result",
          "data": {
            "text/html": [
              "<div>\n",
              "<style scoped>\n",
              "    .dataframe tbody tr th:only-of-type {\n",
              "        vertical-align: middle;\n",
              "    }\n",
              "\n",
              "    .dataframe tbody tr th {\n",
              "        vertical-align: top;\n",
              "    }\n",
              "\n",
              "    .dataframe thead th {\n",
              "        text-align: right;\n",
              "    }\n",
              "</style>\n",
              "<table border=\"1\" class=\"dataframe\">\n",
              "  <thead>\n",
              "    <tr style=\"text-align: right;\">\n",
              "      <th></th>\n",
              "      <th>2</th>\n",
              "      <th>3</th>\n",
              "      <th>4</th>\n",
              "      <th>5</th>\n",
              "      <th>6</th>\n",
              "    </tr>\n",
              "  </thead>\n",
              "  <tbody>\n",
              "    <tr>\n",
              "      <th>67</th>\n",
              "      <td>97.0</td>\n",
              "      <td>7.8</td>\n",
              "      <td>1.3</td>\n",
              "      <td>1.2</td>\n",
              "      <td>0.9</td>\n",
              "    </tr>\n",
              "    <tr>\n",
              "      <th>144</th>\n",
              "      <td>94.0</td>\n",
              "      <td>7.5</td>\n",
              "      <td>1.2</td>\n",
              "      <td>1.3</td>\n",
              "      <td>4.4</td>\n",
              "    </tr>\n",
              "    <tr>\n",
              "      <th>68</th>\n",
              "      <td>113.0</td>\n",
              "      <td>11.1</td>\n",
              "      <td>1.7</td>\n",
              "      <td>0.8</td>\n",
              "      <td>2.3</td>\n",
              "    </tr>\n",
              "    <tr>\n",
              "      <th>42</th>\n",
              "      <td>129.0</td>\n",
              "      <td>11.9</td>\n",
              "      <td>2.7</td>\n",
              "      <td>1.2</td>\n",
              "      <td>3.5</td>\n",
              "    </tr>\n",
              "    <tr>\n",
              "      <th>3</th>\n",
              "      <td>109.0</td>\n",
              "      <td>5.3</td>\n",
              "      <td>1.6</td>\n",
              "      <td>1.4</td>\n",
              "      <td>1.5</td>\n",
              "    </tr>\n",
              "  </tbody>\n",
              "</table>\n",
              "</div>"
            ],
            "text/plain": [
              "         2     3    4    5    6\n",
              "67    97.0   7.8  1.3  1.2  0.9\n",
              "144   94.0   7.5  1.2  1.3  4.4\n",
              "68   113.0  11.1  1.7  0.8  2.3\n",
              "42   129.0  11.9  2.7  1.2  3.5\n",
              "3    109.0   5.3  1.6  1.4  1.5"
            ]
          },
          "metadata": {
            "tags": []
          },
          "execution_count": 19
        }
      ]
    },
    {
      "cell_type": "code",
      "metadata": {
        "id": "ThF2tyIAlQY7",
        "outputId": "cc61d311-1924-4a85-c321-32b34f01c50c",
        "colab": {
          "base_uri": "https://localhost:8080/",
          "height": 195
        }
      },
      "source": [
        "y_train.head()"
      ],
      "execution_count": null,
      "outputs": [
        {
          "output_type": "execute_result",
          "data": {
            "text/html": [
              "<div>\n",
              "<style scoped>\n",
              "    .dataframe tbody tr th:only-of-type {\n",
              "        vertical-align: middle;\n",
              "    }\n",
              "\n",
              "    .dataframe tbody tr th {\n",
              "        vertical-align: top;\n",
              "    }\n",
              "\n",
              "    .dataframe thead th {\n",
              "        text-align: right;\n",
              "    }\n",
              "</style>\n",
              "<table border=\"1\" class=\"dataframe\">\n",
              "  <thead>\n",
              "    <tr style=\"text-align: right;\">\n",
              "      <th></th>\n",
              "      <th>1</th>\n",
              "      <th>2</th>\n",
              "      <th>3</th>\n",
              "    </tr>\n",
              "  </thead>\n",
              "  <tbody>\n",
              "    <tr>\n",
              "      <th>67</th>\n",
              "      <td>1</td>\n",
              "      <td>0</td>\n",
              "      <td>0</td>\n",
              "    </tr>\n",
              "    <tr>\n",
              "      <th>144</th>\n",
              "      <td>1</td>\n",
              "      <td>0</td>\n",
              "      <td>0</td>\n",
              "    </tr>\n",
              "    <tr>\n",
              "      <th>68</th>\n",
              "      <td>1</td>\n",
              "      <td>0</td>\n",
              "      <td>0</td>\n",
              "    </tr>\n",
              "    <tr>\n",
              "      <th>42</th>\n",
              "      <td>1</td>\n",
              "      <td>0</td>\n",
              "      <td>0</td>\n",
              "    </tr>\n",
              "    <tr>\n",
              "      <th>3</th>\n",
              "      <td>1</td>\n",
              "      <td>0</td>\n",
              "      <td>0</td>\n",
              "    </tr>\n",
              "  </tbody>\n",
              "</table>\n",
              "</div>"
            ],
            "text/plain": [
              "     1  2  3\n",
              "67   1  0  0\n",
              "144  1  0  0\n",
              "68   1  0  0\n",
              "42   1  0  0\n",
              "3    1  0  0"
            ]
          },
          "metadata": {
            "tags": []
          },
          "execution_count": 20
        }
      ]
    },
    {
      "cell_type": "code",
      "metadata": {
        "id": "GSOINIB3lT3N",
        "outputId": "ca22da0f-c9c9-4eea-9ac3-93fe7cbe5eb5",
        "colab": {
          "base_uri": "https://localhost:8080/"
        }
      },
      "source": [
        "model,history = beginner.build_compile_fit_model(x_train,y_train,'classification',30,3,[100,100,100],['relu','relu','relu'])"
      ],
      "execution_count": null,
      "outputs": [
        {
          "output_type": "stream",
          "text": [
            "Model: \"sequential_1\"\n",
            "_________________________________________________________________\n",
            "Layer (type)                 Output Shape              Param #   \n",
            "=================================================================\n",
            "dense_4 (Dense)              (None, 100)               600       \n",
            "_________________________________________________________________\n",
            "dense_5 (Dense)              (None, 100)               10100     \n",
            "_________________________________________________________________\n",
            "dense_6 (Dense)              (None, 100)               10100     \n",
            "_________________________________________________________________\n",
            "dense_7 (Dense)              (None, 3)                 303       \n",
            "=================================================================\n",
            "Total params: 21,103\n",
            "Trainable params: 21,103\n",
            "Non-trainable params: 0\n",
            "_________________________________________________________________\n",
            "Epoch 1/30\n",
            "5/5 [==============================] - 0s 31ms/step - loss: 1.8446 - accuracy: 0.4818 - val_loss: 0.8726 - val_accuracy: 0.7429\n",
            "Epoch 2/30\n",
            "5/5 [==============================] - 0s 5ms/step - loss: 1.5685 - accuracy: 0.7080 - val_loss: 0.7675 - val_accuracy: 0.8286\n",
            "Epoch 3/30\n",
            "5/5 [==============================] - 0s 5ms/step - loss: 0.8452 - accuracy: 0.6058 - val_loss: 0.4454 - val_accuracy: 0.9714\n",
            "Epoch 4/30\n",
            "5/5 [==============================] - 0s 5ms/step - loss: 0.5628 - accuracy: 0.8905 - val_loss: 0.4399 - val_accuracy: 0.8571\n",
            "Epoch 5/30\n",
            "5/5 [==============================] - 0s 6ms/step - loss: 0.6740 - accuracy: 0.8248 - val_loss: 0.3484 - val_accuracy: 0.9429\n",
            "Epoch 6/30\n",
            "5/5 [==============================] - 0s 5ms/step - loss: 0.3670 - accuracy: 0.9416 - val_loss: 0.3815 - val_accuracy: 0.8857\n",
            "Epoch 7/30\n",
            "5/5 [==============================] - 0s 6ms/step - loss: 0.4628 - accuracy: 0.8467 - val_loss: 0.3768 - val_accuracy: 0.8571\n",
            "Epoch 8/30\n",
            "5/5 [==============================] - 0s 6ms/step - loss: 0.4096 - accuracy: 0.8759 - val_loss: 0.2823 - val_accuracy: 0.9714\n",
            "Epoch 9/30\n",
            "5/5 [==============================] - 0s 5ms/step - loss: 0.3499 - accuracy: 0.8686 - val_loss: 0.3068 - val_accuracy: 0.8571\n",
            "Epoch 10/30\n",
            "5/5 [==============================] - 0s 5ms/step - loss: 0.3114 - accuracy: 0.8759 - val_loss: 0.3311 - val_accuracy: 0.9714\n",
            "Epoch 11/30\n",
            "5/5 [==============================] - 0s 5ms/step - loss: 0.2725 - accuracy: 0.9343 - val_loss: 0.2159 - val_accuracy: 0.8571\n",
            "Epoch 12/30\n",
            "5/5 [==============================] - 0s 5ms/step - loss: 0.3196 - accuracy: 0.8832 - val_loss: 0.1937 - val_accuracy: 0.9143\n",
            "Epoch 13/30\n",
            "5/5 [==============================] - 0s 5ms/step - loss: 0.2714 - accuracy: 0.9124 - val_loss: 0.2276 - val_accuracy: 0.9429\n",
            "Epoch 14/30\n",
            "5/5 [==============================] - 0s 5ms/step - loss: 0.2555 - accuracy: 0.8978 - val_loss: 0.1843 - val_accuracy: 0.8857\n",
            "Epoch 15/30\n",
            "5/5 [==============================] - 0s 5ms/step - loss: 0.2273 - accuracy: 0.9051 - val_loss: 0.1675 - val_accuracy: 0.9714\n",
            "Epoch 16/30\n",
            "5/5 [==============================] - 0s 5ms/step - loss: 0.2220 - accuracy: 0.9124 - val_loss: 0.1696 - val_accuracy: 0.9429\n",
            "Epoch 17/30\n",
            "5/5 [==============================] - 0s 6ms/step - loss: 0.2319 - accuracy: 0.9343 - val_loss: 0.1620 - val_accuracy: 0.9429\n",
            "Epoch 18/30\n",
            "5/5 [==============================] - 0s 5ms/step - loss: 0.2092 - accuracy: 0.9270 - val_loss: 0.1365 - val_accuracy: 0.9714\n",
            "Epoch 19/30\n",
            "5/5 [==============================] - 0s 5ms/step - loss: 0.2183 - accuracy: 0.9270 - val_loss: 0.1573 - val_accuracy: 0.9429\n",
            "Epoch 20/30\n",
            "5/5 [==============================] - 0s 5ms/step - loss: 0.1786 - accuracy: 0.9124 - val_loss: 0.1506 - val_accuracy: 0.9429\n",
            "Epoch 21/30\n",
            "5/5 [==============================] - 0s 5ms/step - loss: 0.2066 - accuracy: 0.9197 - val_loss: 0.1395 - val_accuracy: 1.0000\n",
            "Epoch 22/30\n",
            "5/5 [==============================] - 0s 5ms/step - loss: 0.2174 - accuracy: 0.9416 - val_loss: 0.1932 - val_accuracy: 0.8857\n",
            "Epoch 23/30\n",
            "5/5 [==============================] - 0s 6ms/step - loss: 0.2418 - accuracy: 0.9124 - val_loss: 0.1306 - val_accuracy: 0.9429\n",
            "Epoch 24/30\n",
            "5/5 [==============================] - 0s 5ms/step - loss: 0.1868 - accuracy: 0.9416 - val_loss: 0.1335 - val_accuracy: 1.0000\n",
            "Epoch 25/30\n",
            "5/5 [==============================] - 0s 5ms/step - loss: 0.1642 - accuracy: 0.9343 - val_loss: 0.1394 - val_accuracy: 0.9429\n",
            "Epoch 26/30\n",
            "5/5 [==============================] - 0s 5ms/step - loss: 0.1754 - accuracy: 0.9270 - val_loss: 0.1024 - val_accuracy: 0.9714\n",
            "Epoch 27/30\n",
            "5/5 [==============================] - 0s 6ms/step - loss: 0.1632 - accuracy: 0.9343 - val_loss: 0.1191 - val_accuracy: 0.9714\n",
            "Epoch 28/30\n",
            "5/5 [==============================] - 0s 5ms/step - loss: 0.1771 - accuracy: 0.9489 - val_loss: 0.1128 - val_accuracy: 1.0000\n",
            "Epoch 29/30\n",
            "5/5 [==============================] - 0s 6ms/step - loss: 0.2142 - accuracy: 0.9051 - val_loss: 0.1049 - val_accuracy: 0.9714\n",
            "Epoch 30/30\n",
            "5/5 [==============================] - 0s 5ms/step - loss: 0.2892 - accuracy: 0.8978 - val_loss: 0.1003 - val_accuracy: 0.9429\n"
          ],
          "name": "stdout"
        }
      ]
    },
    {
      "cell_type": "code",
      "metadata": {
        "id": "54fMbUdcllD6",
        "outputId": "5bed4a89-4487-4387-89cf-f55452e62eac",
        "colab": {
          "base_uri": "https://localhost:8080/"
        }
      },
      "source": [
        "beginner.get_accuracy(x_test,y_test,model)"
      ],
      "execution_count": null,
      "outputs": [
        {
          "output_type": "stream",
          "text": [
            "2/2 [==============================] - 0s 3ms/step - loss: 0.1222 - accuracy: 0.9535\n"
          ],
          "name": "stdout"
        }
      ]
    },
    {
      "cell_type": "code",
      "metadata": {
        "id": "KgB2aWjBlwZX",
        "outputId": "e4d4ffef-c82b-4728-ffd8-b57b86522c71",
        "colab": {
          "base_uri": "https://localhost:8080/",
          "height": 295
        }
      },
      "source": [
        "beginner.accuracy_vs_valaccuracy(model,history,30)"
      ],
      "execution_count": null,
      "outputs": [
        {
          "output_type": "display_data",
          "data": {
            "image/png": "[encoded data removed]",
            "text/plain": [
              "<Figure size 432x288 with 1 Axes>"
            ]
          },
          "metadata": {
            "tags": [],
            "needs_background": "light"
          }
        }
      ]
    },
    {
      "cell_type": "code",
      "metadata": {
        "id": "PVkSCyqGlwTE",
        "outputId": "7f63a746-f3f3-4400-e30d-81f06cd0ca58",
        "colab": {
          "base_uri": "https://localhost:8080/",
          "height": 295
        }
      },
      "source": [
        "beginner.loss_vs_valloss(model,history,30)"
      ],
      "execution_count": null,
      "outputs": [
        {
          "output_type": "display_data",
          "data": {
            "image/png": "[encoded data removed]",
            "text/plain": [
              "<Figure size 432x288 with 1 Axes>"
            ]
          },
          "metadata": {
            "tags": [],
            "needs_background": "light"
          }
        }
      ]
    }
  ]
}